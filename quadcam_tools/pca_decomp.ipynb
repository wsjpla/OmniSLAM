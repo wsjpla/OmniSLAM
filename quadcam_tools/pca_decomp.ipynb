{
 "cells": [
  {
   "cell_type": "code",
   "execution_count": 2,
   "metadata": {},
   "outputs": [],
   "source": [
    "import rosbag\n",
    "from cv_bridge import CvBridge\n",
    "import numpy as np\n",
    "import onnxruntime\n",
    "import cv2\n",
    "import matplotlib.pyplot as plt"
   ]
  },
  {
   "cell_type": "code",
   "execution_count": 3,
   "metadata": {},
   "outputs": [],
   "source": [
    "def read_images(bag):\n",
    "    #Read from bag\n",
    "    bag = rosbag.Bag(bag)\n",
    "    # Read Image and CompressedImage\n",
    "    bridge = CvBridge()\n",
    "    count = 0\n",
    "    imgs = []\n",
    "    for topic, msg, t in bag.read_messages():\n",
    "        if msg._type == \"sensor_msgs/Image\":\n",
    "            img = bridge.imgmsg_to_cv2(msg, desired_encoding='passthrough')\n",
    "            imgs.append(img)\n",
    "            count += 1\n",
    "        elif msg._type == \"sensor_msgs/CompressedImage\":\n",
    "            img = bridge.compressed_imgmsg_to_cv2(msg, desired_encoding='passthrough')\n",
    "            imgs.append(img)\n",
    "            count += 1\n",
    "    print(\"Read %d images from bag\" % count)\n",
    "    return imgs\n",
    "\n",
    "def compute_netvlad(sess, imgs):\n",
    "    # Compute NetVLAD with Onnx\n",
    "    netvlads = []\n",
    "    for img in imgs:\n",
    "        if len(img.shape) > 2 and img.shape[2] == 3:\n",
    "            img_gray = cv2.cvtColor(img, cv2.COLOR_BGR2GRAY)\n",
    "        else:\n",
    "            img_gray = img\n",
    "        img_gray = img_gray.astype(np.float32)[np.newaxis,:,:,np.newaxis]\n",
    "        output = sess.run(None, {sess.get_inputs()[0].name: img_gray})\n",
    "        netvlads.append(output[0].flatten())\n",
    "    netvlads = np.array(netvlads)\n",
    "    print(\"netvlads shape: \", netvlads.shape)\n",
    "    return netvlads\n"
   ]
  },
  {
   "cell_type": "code",
   "execution_count": 4,
   "metadata": {},
   "outputs": [
    {
     "name": "stdout",
     "output_type": "stream",
     "text": [
      "Read 47603 images from bag\n"
     ]
    }
   ],
   "source": [
    "bag_path = \"/home/xuhao/data/d2slam/drone3-RI/drone1.bag\"\n",
    "images = read_images(bag_path)\n"
   ]
  },
  {
   "cell_type": "code",
   "execution_count": 5,
   "metadata": {},
   "outputs": [
    {
     "name": "stdout",
     "output_type": "stream",
     "text": [
      "netvlads shape:  (47603, 4096)\n"
     ]
    }
   ],
   "source": [
    "netvlad_model = \"/home/xuhao/d2slam_ws/src/D2SLAM/models/mobilenetvlad_dyn_batch_size.onnx\"\n",
    "sess = onnxruntime.InferenceSession(netvlad_model, providers=[\"CUDAExecutionProvider\"])\n",
    "netvlads = compute_netvlad(sess, images)"
   ]
  },
  {
   "cell_type": "code",
   "execution_count": 6,
   "metadata": {},
   "outputs": [
    {
     "name": "stdout",
     "output_type": "stream",
     "text": [
      "netvlads_pca shape:  (47603, 1024)\n"
     ]
    }
   ],
   "source": [
    "# PCA with sklearn of netvlads\n",
    "# Decompose netvlads to 1024 dimensions\n",
    "from sklearn.decomposition import PCA\n",
    "pca = PCA(n_components=1024)\n",
    "pca.fit(netvlads)\n",
    "netvlads_pca = pca.transform(netvlads)\n",
    "print(\"netvlads_pca shape: \", netvlads_pca.shape)\n",
    "# Normalize netvlads_pca\n",
    "netvlads_pca = netvlads_pca / np.linalg.norm(netvlads_pca, axis=1, keepdims=True)\n"
   ]
  },
  {
   "cell_type": "code",
   "execution_count": 9,
   "metadata": {},
   "outputs": [
    {
     "name": "stdout",
     "output_type": "stream",
     "text": [
      "dot_product err variance:  0.012703997\n",
      "dot_product = 0.647379 * dot_product_pca + 0.341641\n",
      "dot_product_pca = 1.461383 * dot_product + -0.499261\n"
     ]
    },
    {
     "data": {
      "image/png": "[encoded data removed]",
      "text/plain": [
       "<Figure size 720x720 with 1 Axes>"
      ]
     },
     "metadata": {
      "needs_background": "light"
     },
     "output_type": "display_data"
    },
    {
     "name": "stdout",
     "output_type": "stream",
     "text": [
      "dot_product dot_product_pca\n",
      "0.5 0.23143065880125185\n",
      "0.6 0.3775689572494522\n",
      "0.7 0.5237072556976525\n",
      "0.8 0.669845554145853\n",
      "0.9 0.8159838525940535\n"
     ]
    }
   ],
   "source": [
    "\n",
    "# Verify the PCA result, we random choose two netvlad vector 1000 times\n",
    "# and compute the dot product before and after PCA by compute the variance\n",
    "import random\n",
    "dot_product = []\n",
    "dot_product_pca = []\n",
    "for i in range(1000000):\n",
    "    idx1 = random.randint(0, len(netvlads)-1)\n",
    "    idx2 = random.randint(0, len(netvlads)-1)\n",
    "    dot_product.append(np.dot(netvlads[idx1,:], netvlads[idx2,:]))\n",
    "    dot_product_pca.append(np.dot(netvlads_pca[idx1,:], netvlads_pca[idx2,:]))\n",
    "dot_product = np.array(dot_product)\n",
    "dot_product_pca = np.array(dot_product_pca)\n",
    "print(\"dot_product err variance: \", np.var(dot_product-dot_product_pca))\n",
    "plt.figure(figsize=(10,10))\n",
    "heatmap, xedges, yedges = np.histogram2d(dot_product, dot_product_pca, bins=100)\n",
    "extent = [xedges[0], xedges[-1], yedges[0], yedges[-1]]\n",
    "plt.imshow(heatmap.T, extent=extent, origin='lower')\n",
    "plt.xlabel('dot_product')\n",
    "plt.ylabel('dot_product_pca')\n",
    "plt.grid(which='both')\n",
    "# Set to equal scale\n",
    "# Fit line of dot_product_pca to dot_product\n",
    "m, b = np.polyfit(dot_product_pca, dot_product, 1)\n",
    "print(\"dot_product = %f * dot_product_pca + %f\" % (m, b))\n",
    "m, b = np.polyfit(dot_product, dot_product_pca, 1)\n",
    "print(\"dot_product_pca = %f * dot_product + %f\" % (m, b))\n",
    "plt.plot(dot_product, m*dot_product + b, 'r')\n",
    "plt.show()\n",
    "#Print a table of original and PCA dot product\n",
    "print(\"dot_product dot_product_pca\")\n",
    "for i in range(5, 10):\n",
    "    thres = i / 10\n",
    "    print(thres, m*thres+b)"
   ]
  },
  {
   "cell_type": "code",
   "execution_count": null,
   "metadata": {},
   "outputs": [
    {
     "name": "stdout",
     "output_type": "stream",
     "text": [
      "pca_result shape:  (1025, 4096)\n"
     ]
    }
   ],
   "source": [
    "pca_result = pca.components_.copy()\n",
    "#Add the mean vector\n",
    "pca_result = np.vstack((pca.mean_, pca_result))\n",
    "print(\"pca_result shape: \", pca_result.shape)\n",
    "# Save the pca result as csv\n",
    "np.savetxt(\"../models/netvlad_pca.csv\", pca_result, delimiter=\",\")"
   ]
  },
  {
   "cell_type": "code",
   "execution_count": null,
   "metadata": {},
   "outputs": [
    {
     "name": "stdout",
     "output_type": "stream",
     "text": [
      "pca_result_sp shape:  (65, 256)\n"
     ]
    }
   ],
   "source": [
    "# Load the pca result\n",
    "pca_comp_sp = np.loadtxt(\"../models/components_.csv\", delimiter=\",\")\n",
    "pca_mean_sp = np.loadtxt(\"../models/mean_.csv\", delimiter=\",\")\n",
    "# Save as stack \n",
    "pca_result_sp = np.vstack((pca_mean_sp, pca_comp_sp))\n",
    "print(\"pca_result_sp shape: \", pca_result_sp.shape)\n",
    "np.savetxt(\"../models/superpoint_pca.csv\", pca_result_sp, delimiter=\",\")"
   ]
  },
  {
   "cell_type": "code",
   "execution_count": null,
   "metadata": {},
   "outputs": [],
   "source": [
    "1.46 * 0.8 - "
   ]
  }
 ],
 "metadata": {
  "kernelspec": {
   "display_name": "Python 3.8.5 ('base')",
   "language": "python",
   "name": "python3"
  },
  "language_info": {
   "codemirror_mode": {
    "name": "ipython",
    "version": 3
   },
   "file_extension": ".py",
   "mimetype": "text/x-python",
   "name": "python",
   "nbconvert_exporter": "python",
   "pygments_lexer": "ipython3",
   "version": "3.8.5"
  },
  "orig_nbformat": 4,
  "vscode": {
   "interpreter": {
    "hash": "08ce52785f0fedc81003ce387e097a83d6cc9494681cd746006386992005bb71"
   }
  }
 },
 "nbformat": 4,
 "nbformat_minor": 2
}
