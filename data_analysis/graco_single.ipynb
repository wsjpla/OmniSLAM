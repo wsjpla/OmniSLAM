{
 "cells": [
  {
   "cell_type": "code",
   "execution_count": null,
   "metadata": {},
   "outputs": [],
   "source": [
    "%matplotlib inline\n",
    "%load_ext autoreload\n",
    "%autoreload 2\n",
    "from local_plot import *\n",
    "from utils import *"
   ]
  },
  {
   "cell_type": "code",
   "execution_count": null,
   "metadata": {},
   "outputs": [],
   "source": [
    "path_gt = \"/home/xuhao/data/d2slam/NTU_VIRAL/groundtruth_1.csv\"\n",
    "path_odom = \"/home/xuhao/output/d2vins_1.csv\"\n",
    "path_pgo = \"/home/xuhao/output/pgo_1.csv\"\n",
    "# path_odom = \"/home/xuhao/data/d2slam/tum_datasets/vins-mono_1.csv\"\n",
    "\n",
    "traj_gt, t0 = read_path_from_csv(path_gt)\n",
    "traj_odom, _ = read_path_from_csv(path_odom, t0=t0)\n",
    "traj_pgo, _ = read_path_from_csv(path_pgo, t0=t0)\n",
    "align_path_by_minimize(traj_odom, traj_gt, True)\n",
    "align_path_by_minimize(traj_pgo, traj_gt, True)\n",
    "plot_fused([1], {1: traj_odom}, {1: traj_gt}, {1:traj_pgo}, figsize=(10,10))\n",
    "plot_fused_err([1], {1: traj_odom}, {1: traj_gt}, {1: traj_odom}, {1:traj_pgo}, show=True)"
   ]
  },
  {
   "cell_type": "code",
   "execution_count": null,
   "metadata": {},
   "outputs": [],
   "source": [
    "path_gt = \"/home/xuhao/data/d2slam/tum_corr/groundtruth_2.csv\"\n",
    "path_odom = \"/home/xuhao/output/d2vins_1.csv\"\n",
    "path_pgo = \"/home/xuhao/output/pgo_1.csv\"\n",
    "# path_odom = \"/home/xuhao/data/d2slam/tum_corr/vins-mono_2.csv\"\n",
    "\n",
    "traj_gt, t0 = read_path_from_csv(path_gt)\n",
    "traj_odom, _ = read_path_from_csv(path_odom, t0=t0)\n",
    "traj_pgo, _ = read_path_from_csv(path_pgo, t0=t0)\n",
    "align_path_by_minimize(traj_odom, traj_gt, True)\n",
    "align_path_by_minimize(traj_pgo, traj_gt, True)\n",
    "plot_fused([1], {1: traj_odom}, {1: traj_gt}, {1: traj_pgo}, figsize=(10,10))\n",
    "plot_fused_err([1], {1: traj_odom}, {1: traj_gt}, {1: traj_odom}, {1: traj_pgo}, show=True)"
   ]
  },
  {
   "cell_type": "code",
   "execution_count": null,
   "metadata": {},
   "outputs": [],
   "source": [
    "path_gt = \"/home/xuhao/data/d2slam/NTU_VIRAL/eee_01-groundtruth.txt\"\n",
    "path_odom = \"/home/xuhao/output/d2vins_1.csv\"\n",
    "path_pgo = \"/home/xuhao/output/pgo_1.csv\"\n",
    "# path_odom = \"/home/xuhao/data/d2slam/tum_corr/vins-mono_2.csv\"\n",
    "\n",
    "traj_gt, t0 = read_path_from_csv(path_gt)\n",
    "traj_odom, _ = read_path_from_csv(path_odom, t0=t0)\n",
    "traj_pgo, _ = read_path_from_csv(path_pgo, t0=t0)\n",
    "align_path_by_minimize(traj_odom, traj_gt, True)\n",
    "align_path_by_minimize(traj_pgo, traj_gt, True)\n",
    "plot_fused([1], {1: traj_odom}, {1: traj_gt}, {1: traj_pgo}, figsize=(10,10))\n",
    "plot_fused_err([1], {1: traj_odom}, {1: traj_gt}, {1: traj_odom}, {1: traj_pgo}, show=True)"
   ]
  },
  {
   "cell_type": "code",
   "execution_count": null,
   "metadata": {},
   "outputs": [],
   "source": []
  }
 ],
 "metadata": {
  "kernelspec": {
   "display_name": "base",
   "language": "python",
   "name": "python3"
  },
  "language_info": {
   "codemirror_mode": {
    "name": "ipython",
    "version": 3
   },
   "file_extension": ".py",
   "mimetype": "text/x-python",
   "name": "python",
   "nbconvert_exporter": "python",
   "pygments_lexer": "ipython3",
   "version": "3.8.5"
  },
  "orig_nbformat": 4
 },
 "nbformat": 4,
 "nbformat_minor": 2
}
