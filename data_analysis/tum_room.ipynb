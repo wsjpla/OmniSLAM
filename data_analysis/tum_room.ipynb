{
 "cells": [
  {
   "cell_type": "code",
   "execution_count": null,
   "metadata": {},
   "outputs": [],
   "source": [
    "%matplotlib inline\n",
    "%load_ext autoreload\n",
    "%autoreload 2\n",
    "from local_plot import *\n",
    "from utils import *\n"
   ]
  },
  {
   "cell_type": "code",
   "execution_count": null,
   "metadata": {},
   "outputs": [],
   "source": [
    "nodes = [1, 2, 3]\n",
    "output_folder = \"/home/xuhao/data/d2slam/tum_datasets/outputs/d2vins-3/swarm1\"\n",
    "data_folder=\"/home/xuhao/data/d2slam/tum_datasets/\"\n",
    "dte = 30\n",
    "paths_gt, t0 = read_paths(data_folder, nodes, prefix=\"groundtruth\")\n",
    "paths_vo, t0 = read_paths(data_folder, nodes, prefix=\"vins-mono\", t0=t0)\n",
    "paths, _ = read_paths(output_folder, nodes, t0=t0)\n",
    "align_paths(paths_vo, paths_gt)\n",
    "display(plot_fused_err(nodes, paths, paths_gt, dte=dte, show=False))\n",
    "display(relative_pose_err(nodes, paths, paths_gt, dte=dte, show=False))\n",
    "# plot_fused(nodes, paths, poses_gt=paths_gt, figsize=(10,10))\n",
    "\n",
    "print(\"VINS-Mono\")\n",
    "display(plot_fused_err(nodes, paths_vo, paths_gt, dte=dte, show=False))\n",
    "display(relative_pose_err(nodes, paths_vo, paths_gt, dte=dte, show=False))\n",
    "# plot_fused(nodes, paths_vo, poses_gt=paths_gt, figsize=(10,10))\n"
   ]
  },
  {
   "cell_type": "code",
   "execution_count": null,
   "metadata": {},
   "outputs": [],
   "source": [
    "nodes = [1, 2, 3, 4]\n",
    "output_folder = \"/home/xuhao/data/d2slam/tum_datasets/outputs/d2vins-4/swarm1\"\n",
    "data_folder=\"/home/xuhao/data/d2slam/tum_datasets/\"\n",
    "dte = 30\n",
    "paths_gt, t0 = read_paths(data_folder, nodes, prefix=\"groundtruth\")\n",
    "paths_vo, t0 = read_paths(data_folder, nodes, prefix=\"vins-mono\", t0=t0)\n",
    "paths, _ = read_paths(output_folder, nodes, t0=t0)\n",
    "align_paths(paths_vo, paths_gt)\n",
    "display(plot_fused_err(nodes, paths, paths_gt, dte=dte, show=False))\n",
    "display(plot_relative_pose_err(1, nodes[1:], paths, paths_gt, dte=dte, show=False))\n",
    "# plot_fused(nodes, paths, poses_gt=paths_gt, figsize=(10,10))\n",
    "\n",
    "print(\"VINS-Mono\")\n",
    "display(plot_fused_err(nodes, paths_vo, paths_gt, dte=dte, show=False))\n",
    "display(plot_relative_pose_err(1, nodes[1:], paths_vo, paths_gt, dte=dte, show=False))\n",
    "# plot_fused(nodes, paths_vo, poses_gt=paths_gt, figsize=(10,10))\n"
   ]
  },
  {
   "cell_type": "code",
   "execution_count": null,
   "metadata": {},
   "outputs": [],
   "source": [
    "nodes = [1, 2, 3, 4, 5]\n",
    "output_folder = \"/home/xuhao/data/d2slam/tum_datasets/outputs/d2vins-5/swarm1\"\n",
    "data_folder=\"/home/xuhao/data/d2slam/tum_datasets/\"\n",
    "dte = 30\n",
    "paths_gt, t0 = read_paths(data_folder, nodes, prefix=\"groundtruth\")\n",
    "paths_vo, t0 = read_paths(data_folder, nodes, prefix=\"vins-mono\", t0=t0)\n",
    "paths, _ = read_paths(output_folder, nodes, t0=t0)\n",
    "align_paths(paths_vo, paths_gt)\n",
    "display(plot_fused_err(nodes, paths, paths_gt, dte=dte, show=False))\n",
    "display(plot_relative_pose_err(1, nodes[1:], paths, paths_gt, dte=dte, show=False))\n",
    "# plot_fused(nodes, paths, poses_gt=paths_gt, figsize=(10,10))\n",
    "\n",
    "print(\"VINS-Mono\")\n",
    "display(plot_fused_err(nodes, paths_vo, paths_gt, dte=dte, show=False))\n",
    "display(plot_relative_pose_err(1, nodes[1:], paths_vo, paths_gt, dte=dte, show=False))\n",
    "# plot_fused(nodes, paths_vo, poses_gt=paths_gt, figsize=(10,10))\n"
   ]
  },
  {
   "cell_type": "code",
   "execution_count": null,
   "metadata": {},
   "outputs": [],
   "source": [
    "nodes = [1, 2, 3, 4, 5]\n",
    "output_folder = \"/home/xuhao/data/d2slam/tum_datasets/outputs/d2vins-5-async/swarm1\"\n",
    "data_folder=\"/home/xuhao/data/d2slam/tum_datasets/\"\n",
    "dte = 30\n",
    "paths_gt, t0 = read_paths(data_folder, nodes, prefix=\"groundtruth\")\n",
    "paths, _ = read_paths(output_folder, nodes, t0=t0)\n",
    "display(plot_fused_err(nodes, paths, paths_gt, dte=dte, show=False))\n",
    "display(plot_relative_pose_err(1, nodes[1:], paths, paths_gt, dte=dte, show=False))"
   ]
  },
  {
   "cell_type": "code",
   "execution_count": null,
   "metadata": {},
   "outputs": [],
   "source": [
    "nodes = [1, 2, 3, 4, 5]\n",
    "output_folder = \"/home/xuhao/data/d2slam/tum_datasets/outputs/d2slam/swarm\"\n",
    "data_folder=\"/home/xuhao/data/d2slam/tum_datasets/\"\n",
    "dte = 550\n",
    "paths, paths_pgo, t0 = read_multi_folder(output_folder, nodes)\n",
    "paths_gt, _ = read_paths(data_folder, nodes, prefix=\"groundtruth_\", t0=t0)\n",
    "align_paths(paths, paths_gt, align_by_first=True)\n",
    "if paths_pgo is not None:\n",
    "    align_paths(paths_pgo, paths_gt, align_by_first=True, align_with_minize=True)\n",
    "display(plot_fused_err(nodes, paths, paths_gt, poses_pgo=paths_pgo, dte=dte, show=False))\n",
    "display(relative_pose_err(nodes, paths, paths_gt, dte=dte))"
   ]
  },
  {
   "cell_type": "code",
   "execution_count": null,
   "metadata": {},
   "outputs": [],
   "source": []
  }
 ],
 "metadata": {
  "kernelspec": {
   "display_name": "Python 3 (ipykernel)",
   "language": "python",
   "name": "python3"
  },
  "language_info": {
   "codemirror_mode": {
    "name": "ipython",
    "version": 3
   },
   "file_extension": ".py",
   "mimetype": "text/x-python",
   "name": "python",
   "nbconvert_exporter": "python",
   "pygments_lexer": "ipython3",
   "version": "3.8.5"
  },
  "vscode": {
   "interpreter": {
    "hash": "08ce52785f0fedc81003ce387e097a83d6cc9494681cd746006386992005bb71"
   }
  }
 },
 "nbformat": 4,
 "nbformat_minor": 4
}
