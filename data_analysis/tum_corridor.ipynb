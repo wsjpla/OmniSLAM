{
 "cells": [
  {
   "cell_type": "code",
   "execution_count": null,
   "metadata": {},
   "outputs": [],
   "source": [
    "%matplotlib inline\n",
    "%load_ext autoreload\n",
    "%autoreload 2\n",
    "from local_plot import *\n",
    "from utils import *\n",
    "def read(folder, nodes):\n",
    "    paths = {}\n",
    "    paths_pgo = {}\n",
    "    t0 = None\n",
    "    for i in nodes:\n",
    "        output_folder = folder + str(i) + \"/\"\n",
    "        _paths, t0 = read_paths(output_folder, nodes, t0=t0)\n",
    "        _paths_pgo, t0 = read_paths(output_folder, nodes, prefix=\"pgo_\", t0=t0)\n",
    "        paths[i] = _paths[i]\n",
    "        paths_pgo[i] = _paths_pgo[i]\n",
    "    return paths, paths_pgo, t0"
   ]
  },
  {
   "cell_type": "code",
   "execution_count": null,
   "metadata": {},
   "outputs": [],
   "source": [
    "nodes = [1, 2, 3, 4, 5]\n",
    "output_folder = \"/home/xuhao/data/d2slam/tum_corr/outputs/d2slam_compact/swarm\"\n",
    "data_folder=\"/home/xuhao/data/d2slam/tum_corr/\"\n",
    "dte = 550\n",
    "paths, paths_pgo, t0 = read(output_folder, nodes)\n",
    "paths_gt, t0 = read_paths(data_folder, nodes, prefix=\"groundtruth_\", t0=t0)\n",
    "align_paths(paths, paths_gt, align_by_first=True, align_with_minize=False)\n",
    "align_paths(paths_pgo, paths_gt, align_by_first=True, align_with_minize=True)\n",
    "\n",
    "display(plot_fused_err(nodes, paths, paths_gt, poses_pgo=paths_pgo, dte=dte, show=False))\n",
    "display(relative_pose_err(nodes, paths, paths_gt, dte=dte, common_time_dt=0.1))\n",
    "\n",
    "plot_fused(nodes, paths, paths_gt, poses_pgo=paths_pgo, figsize=(15,10))"
   ]
  },
  {
   "cell_type": "code",
   "execution_count": null,
   "metadata": {},
   "outputs": [],
   "source": []
  }
 ],
 "metadata": {
  "kernelspec": {
   "display_name": "Python 3.8.5 ('base')",
   "language": "python",
   "name": "python3"
  },
  "language_info": {
   "codemirror_mode": {
    "name": "ipython",
    "version": 3
   },
   "file_extension": ".py",
   "mimetype": "text/x-python",
   "name": "python",
   "nbconvert_exporter": "python",
   "pygments_lexer": "ipython3",
   "version": "3.8.5"
  },
  "orig_nbformat": 4,
  "vscode": {
   "interpreter": {
    "hash": "08ce52785f0fedc81003ce387e097a83d6cc9494681cd746006386992005bb71"
   }
  }
 },
 "nbformat": 4,
 "nbformat_minor": 2
}
